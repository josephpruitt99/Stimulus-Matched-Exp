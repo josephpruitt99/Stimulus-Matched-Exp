{
 "cells": [
  {
   "cell_type": "code",
   "execution_count": 1,
   "id": "295944cd",
   "metadata": {},
   "outputs": [],
   "source": [
    "import pandas as pd\n",
    "from pathlib import Path\n",
    "import numpy as np"
   ]
  },
  {
   "cell_type": "code",
   "execution_count": 2,
   "id": "d76a793d",
   "metadata": {},
   "outputs": [],
   "source": [
    "cwd = Path.cwd()\n",
    "data_path = cwd.parent/'raw_data'\n",
    "out_path = cwd.parent/'cleaned_data'\n",
    "\n",
    "if not out_path.is_dir():\n",
    "    out_path.mkdir()"
   ]
  },
  {
   "cell_type": "code",
   "execution_count": 3,
   "id": "ad1d8444",
   "metadata": {},
   "outputs": [],
   "source": [
    "participant_ids = []\n",
    "for i in data_path.iterdir():\n",
    "    if '.csv' in i.name:\n",
    "        #print(i.name,i.name.split('_'))\n",
    "        participant_ids.append(i.name.split('_')[1])\n",
    "unique_pid = np.unique(participant_ids)"
   ]
  },
  {
   "cell_type": "code",
   "execution_count": 4,
   "id": "9b09b0b5",
   "metadata": {},
   "outputs": [
    {
     "data": {
      "text/plain": [
       "array(['1', '10', '11', '12', '13', '14', '16', '17', '18', '19', '2',\n",
       "       '20', '21', '22', '23', '24', '25', '26', '29', '3', '31', '32',\n",
       "       '33', '4', '5', '6', '7', '8', '9'], dtype='<U2')"
      ]
     },
     "execution_count": 4,
     "metadata": {},
     "output_type": "execute_result"
    }
   ],
   "source": [
    "unique_pid"
   ]
  },
  {
   "cell_type": "code",
   "execution_count": 5,
   "id": "2f9e9764",
   "metadata": {},
   "outputs": [
    {
     "name": "stdout",
     "output_type": "stream",
     "text": [
      "/Users/josephpruitt/Desktop/exp3/raw_data/exp3_7_A.csv\n",
      "/Users/josephpruitt/Desktop/exp3/raw_data/exp3_18_A.csv\n",
      "/Users/josephpruitt/Desktop/exp3/raw_data/exp3_5_A.csv\n",
      "/Users/josephpruitt/Desktop/exp3/raw_data/exp3_25_A.csv\n",
      "/Users/josephpruitt/Desktop/exp3/raw_data/exp3_21_A.csv\n",
      "/Users/josephpruitt/Desktop/exp3/raw_data/exp3_1_A.csv\n",
      "/Users/josephpruitt/Desktop/exp3/raw_data/exp3_3_A.csv\n",
      "/Users/josephpruitt/Desktop/exp3/raw_data/exp3_23_A.csv\n",
      "/Users/josephpruitt/Desktop/exp3/raw_data/exp3_4_A.csv\n",
      "/Users/josephpruitt/Desktop/exp3/raw_data/exp3_24_A.csv\n",
      "/Users/josephpruitt/Desktop/exp3/raw_data/exp3_19_A.csv\n",
      "/Users/josephpruitt/Desktop/exp3/raw_data/exp3_26_A.csv\n",
      "/Users/josephpruitt/Desktop/exp3/raw_data/exp3_6_A.csv\n",
      "/Users/josephpruitt/Desktop/exp3/raw_data/exp3_2_A.csv\n",
      "/Users/josephpruitt/Desktop/exp3/raw_data/exp3_22_A.csv\n",
      "/Users/josephpruitt/Desktop/exp3/raw_data/exp3_20_A.csv\n",
      "/Users/josephpruitt/Desktop/exp3/raw_data/exp3_11_A.csv\n",
      "/Users/josephpruitt/Desktop/exp3/raw_data/exp3_13_A.csv\n",
      "/Users/josephpruitt/Desktop/exp3/raw_data/exp3_33_A.csv\n",
      "/Users/josephpruitt/Desktop/exp3/raw_data/exp3_17_A.csv\n",
      "/Users/josephpruitt/Desktop/exp3/raw_data/exp3_8_A.csv\n",
      "/Users/josephpruitt/Desktop/exp3/raw_data/exp3_31_A.csv\n",
      "/Users/josephpruitt/Desktop/exp3/raw_data/exp3_12_A.csv\n",
      "/Users/josephpruitt/Desktop/exp3/raw_data/exp3_10_A.csv\n",
      "/Users/josephpruitt/Desktop/exp3/raw_data/exp3_9_A.csv\n",
      "/Users/josephpruitt/Desktop/exp3/raw_data/exp3_29_A.csv\n",
      "/Users/josephpruitt/Desktop/exp3/raw_data/exp3_14_A.csv\n",
      "/Users/josephpruitt/Desktop/exp3/raw_data/exp3_32_A.csv\n",
      "/Users/josephpruitt/Desktop/exp3/raw_data/exp3_16_A.csv\n"
     ]
    }
   ],
   "source": [
    "for i in data_path.iterdir():\n",
    "    if '.csv' in i.name:\n",
    "        print(i)"
   ]
  },
  {
   "cell_type": "code",
   "execution_count": 7,
   "id": "557126a7",
   "metadata": {},
   "outputs": [],
   "source": [
    "cols = ['participant','position', 'validity', 'Stimulus', 'response_key', 'response_rt', 'response_correct', 'confidence','confidence_rt']\n",
    "\n",
    "all_data = pd.DataFrame()\n",
    "map_degrees ={-557:'10', 557:'10', -1158:'20',1158:'20',1716:'30',\n",
    "              -1716:'30',2274:'40',-2274:'40'}\n",
    "\n",
    "map_degrees2 = {-557:'-10', 557:'10', -1158:'-20',1158:'20',1716:'30',\n",
    "              -1716:'-30',2274:'40',-2274:'-40'}\n",
    "\n",
    "for pid in unique_pid:\n",
    "    \n",
    "    df = pd.read_csv(data_path/f'exp3_{pid}_A.csv')\n",
    "    \n",
    "    df = df[cols] \n",
    "    \n",
    "    df = df.loc[~df.Stimulus.isnull()]\n",
    "    df['degrees'] = df['position'].map(map_degrees)\n",
    "    df['degrees_uncollapsed'] = df['position'].map(map_degrees2)\n",
    "    df.reset_index(inplace=True)\n",
    "    df.drop(columns = 'index',inplace=True)\n",
    "    df.index.name = 'trials'\n",
    "    df.reset_index(inplace=True)\n",
    "    \n",
    "    #Need to account for the fact that the first 225 rows are the staircase\n",
    "    df['trials'] = df.trials+1\n",
    "    df.rename(columns={'trials':'trialsN'},inplace=True)\n",
    "    \n",
    "    df['trialsPos'] = df.groupby(['participant','degrees']).cumcount()+1\n",
    "    \n",
    "    df[\"response_key\"].replace({2.0: \"0\", '2':\"0\"}, inplace=True)\n",
    "    \n",
    "    all_data = pd.concat([all_data,df],ignore_index=True)\n",
    "    \n",
    "    df.to_csv(out_path/f'exp3_{pid}_cleaned.csv',index=False)\n",
    "    \n",
    "all_data.to_csv(out_path/'all_pid_exp3_clean.csv',index=False)"
   ]
  },
  {
   "cell_type": "code",
   "execution_count": 19,
   "id": "ad407155",
   "metadata": {},
   "outputs": [],
   "source": [
    "# Threshold File\n",
    "\n",
    "cols = ['participant','trials.label','trials.cue', 'trials.thisRepN', 'trials.thisN', 'signalOpacity', 'trials.response']\n",
    "\n",
    "stair_data = pd.DataFrame()\n",
    "\n",
    "for pid in unique_pid:\n",
    "    \n",
    "    df1 = pd.read_csv(data_path/f'exp3_{pid}_A.csv')\n",
    "    \n",
    "    df1 = df1[cols] \n",
    "    \n",
    "    df1 = df1.loc[~df1.signalOpacity.isnull()]\n",
    "    df1.reset_index(inplace=True)\n",
    "    df1.drop(columns = 'index',inplace=True)\n",
    "    df1.index.name = 'trials'\n",
    "    df1.reset_index(inplace=True)\n",
    "    \n",
    "    #Need to account for the fact that the first 225 rows are the staircase\n",
    "    df1['trialsStair'] = df1.groupby(['participant','trials.label']).cumcount()+1\n",
    "\n",
    "    df1.rename(columns={'trials':'trialsN'},inplace=True)\n",
    "    \n",
    "    stair_data = pd.concat([stair_data,df1],ignore_index=True)\n",
    "    \n",
    "stair_data.to_csv(out_path/'all_pid_exp3_staircase.csv',index=False)"
   ]
  },
  {
   "cell_type": "code",
   "execution_count": null,
   "id": "83b57a60",
   "metadata": {},
   "outputs": [],
   "source": []
  }
 ],
 "metadata": {
  "kernelspec": {
   "display_name": "Python 3",
   "language": "python",
   "name": "python3"
  },
  "language_info": {
   "codemirror_mode": {
    "name": "ipython",
    "version": 3
   },
   "file_extension": ".py",
   "mimetype": "text/x-python",
   "name": "python",
   "nbconvert_exporter": "python",
   "pygments_lexer": "ipython3",
   "version": "3.11.5"
  }
 },
 "nbformat": 4,
 "nbformat_minor": 5
}
