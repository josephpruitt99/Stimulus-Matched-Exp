{
 "cells": [
  {
   "cell_type": "code",
   "execution_count": 2,
   "id": "295944cd",
   "metadata": {},
   "outputs": [],
   "source": [
    "import pandas as pd\n",
    "from pathlib import Path\n",
    "import numpy as np"
   ]
  },
  {
   "cell_type": "code",
   "execution_count": 3,
   "id": "d76a793d",
   "metadata": {},
   "outputs": [],
   "source": [
    "cwd = Path.cwd()\n",
    "data_path = cwd.parent/'data'/'merged_exp1'\n",
    "\n",
    "out_path = cwd.parent/'data'/'cleaned_exp1'\n",
    "\n",
    "if not out_path.is_dir():\n",
    "    out_path.mkdir()"
   ]
  },
  {
   "cell_type": "code",
   "execution_count": 4,
   "id": "ad1d8444",
   "metadata": {},
   "outputs": [],
   "source": [
    "participant_ids = []\n",
    "for i in data_path.iterdir():\n",
    "    if '.csv' in i.name:\n",
    "        #print(i.name,i.name.split('_'))\n",
    "        participant_ids.append(i.name.split('_')[1])\n",
    "unique_pid = np.unique(participant_ids)"
   ]
  },
  {
   "cell_type": "code",
   "execution_count": 5,
   "id": "9b09b0b5",
   "metadata": {},
   "outputs": [
    {
     "data": {
      "text/plain": [
       "array(['3'], dtype='<U1')"
      ]
     },
     "execution_count": 5,
     "metadata": {},
     "output_type": "execute_result"
    }
   ],
   "source": [
    "unique_pid"
   ]
  },
  {
   "cell_type": "code",
   "execution_count": 6,
   "id": "2f9e9764",
   "metadata": {},
   "outputs": [
    {
     "name": "stdout",
     "output_type": "stream",
     "text": [
      "/Users/josephpruitt/Desktop/SDT_Exp/data/merged_exp1/exp1A_3_merged.csv\n"
     ]
    }
   ],
   "source": [
    "for i in data_path.iterdir():\n",
    "    if '.csv' in i.name:\n",
    "        print(i)"
   ]
  },
  {
   "cell_type": "code",
   "execution_count": 9,
   "id": "557126a7",
   "metadata": {},
   "outputs": [],
   "source": [
    "cols = ['Stimulus', 'position', 'signalOpac', 'CorrAns', 'trials.thisTrialN', 'check_eye',\n",
    "'answerResp.keys', 'answerResp.corr', 'answerResp.rt', 'slider.response', 'participant', 'session', 'expName']\n",
    "\n",
    "all_data = pd.DataFrame()\n",
    "map_degrees ={'[0, 0]':'0', '[-557, 0]':'-10', '[557, 0]':'10', '[-1158, 0]': '-20','[1158, 0]':'20','[-1716, 0]': '-30',\n",
    "              '[1716, 0]':'30','[-2274, 0]':'-40','[2274, 0]':'40'}\n",
    "\n",
    "for pid in unique_pid:\n",
    "    \n",
    "    df = pd.read_csv(data_path/f'exp1A_{pid}_merged.csv')\n",
    "    \n",
    "    df = df[cols] \n",
    "    \n",
    "    df = df.loc[~df.Stimulus.isnull()]\n",
    "    df['degrees'] = df['position'].map(map_degrees)\n",
    "    df.reset_index(inplace=True)\n",
    "    df.drop(columns = 'index',inplace=True)\n",
    "    df.index.name = 'trials'\n",
    "    df.reset_index(inplace=True)\n",
    "    \n",
    "    df['trials'] = df.trials+1\n",
    "    df.rename(columns={'trials':'trialsN'},inplace=True)\n",
    "    \n",
    "    \n",
    "    df[\"answerResp.keys\"].replace({\"2.0\": \"0\", \"2\":\"0\"}, inplace=True)\n",
    "    \n",
    "    all_data = pd.concat([all_data,df],ignore_index=True)\n",
    "    \n",
    "    df.to_csv(out_path/f'exp1A_{pid}_cleaned.csv',index=False)\n",
    "    \n",
    "all_data.to_csv(out_path/'all_pid_exp1A_clean.csv',index=False)"
   ]
  },
  {
   "cell_type": "code",
   "execution_count": null,
   "id": "043e27a2",
   "metadata": {},
   "outputs": [],
   "source": []
  }
 ],
 "metadata": {
  "kernelspec": {
   "display_name": "Python 3",
   "language": "python",
   "name": "python3"
  },
  "language_info": {
   "codemirror_mode": {
    "name": "ipython",
    "version": 3
   },
   "file_extension": ".py",
   "mimetype": "text/x-python",
   "name": "python",
   "nbconvert_exporter": "python",
   "pygments_lexer": "ipython3",
   "version": "3.8.8"
  }
 },
 "nbformat": 4,
 "nbformat_minor": 5
}
